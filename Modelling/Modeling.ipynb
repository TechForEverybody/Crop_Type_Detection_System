{
 "cells": [
  {
   "cell_type": "markdown",
   "id": "4a752ebc",
   "metadata": {},
   "source": [
    "<h1 style=\"text-align: center;font-size: 36px;color:darkblue;\">Modeling</h1>"
   ]
  },
  {
   "cell_type": "markdown",
   "id": "74181a1d",
   "metadata": {
    "ExecuteTime": {
     "end_time": "2023-01-25T19:57:54.764294Z",
     "start_time": "2023-01-25T19:57:54.755294Z"
    }
   },
   "source": [
    "# Imports"
   ]
  },
  {
   "cell_type": "code",
   "execution_count": 25,
   "id": "d9618349",
   "metadata": {
    "ExecuteTime": {
     "end_time": "2023-02-24T05:23:04.474049Z",
     "start_time": "2023-02-24T05:23:03.485459Z"
    }
   },
   "outputs": [],
   "source": [
    "import pandas\n",
    "import numpy\n",
    "import seaborn\n",
    "import matplotlib.pyplot as pyplot\n",
    "import os\n",
    "import pickle\n",
    "import keras\n",
    "import tensorflow\n",
    "from sklearn.metrics import confusion_matrix,classification_report\n",
    "from keras.utils.vis_utils import plot_model\n",
    "import seaborn"
   ]
  },
  {
   "cell_type": "markdown",
   "id": "3f045b83",
   "metadata": {},
   "source": [
    "# Configurations"
   ]
  },
  {
   "cell_type": "code",
   "execution_count": 3,
   "id": "895c1adf",
   "metadata": {
    "ExecuteTime": {
     "end_time": "2023-01-25T20:05:24.182655Z",
     "start_time": "2023-01-25T20:05:23.865575Z"
    }
   },
   "outputs": [],
   "source": [
    "# %matplotlib qt;\n",
    "%matplotlib inline\n",
    "pyplot.rcParams[\"figure.figsize\"] = (5, 3)"
   ]
  },
  {
   "cell_type": "code",
   "execution_count": 6,
   "id": "9774117b",
   "metadata": {
    "ExecuteTime": {
     "end_time": "2023-02-24T05:15:59.379489Z",
     "start_time": "2023-02-24T05:15:59.371293Z"
    }
   },
   "outputs": [],
   "source": [
    "Training_Data_Path=\"../Data/Main_Data/Training_Data/\"\n",
    "Testing_Data_Path=\"../Data/Main_Data/Testing_Data/\""
   ]
  },
  {
   "cell_type": "code",
   "execution_count": 7,
   "id": "4d411e5a",
   "metadata": {
    "ExecuteTime": {
     "end_time": "2023-02-24T05:15:59.650220Z",
     "start_time": "2023-02-24T05:15:59.623253Z"
    }
   },
   "outputs": [],
   "source": [
    "Object_Data_Path=\"../Data/Preprocessed_Data/\""
   ]
  },
  {
   "cell_type": "code",
   "execution_count": 8,
   "id": "8515ad17",
   "metadata": {
    "ExecuteTime": {
     "end_time": "2023-02-24T05:15:59.922995Z",
     "start_time": "2023-02-24T05:15:59.909096Z"
    }
   },
   "outputs": [],
   "source": [
    "class_list=os.listdir(Training_Data_Path)"
   ]
  },
  {
   "cell_type": "markdown",
   "id": "67a7d5a9",
   "metadata": {},
   "source": [
    "### Functions"
   ]
  },
  {
   "cell_type": "code",
   "execution_count": 50,
   "id": "89bf774e",
   "metadata": {
    "ExecuteTime": {
     "end_time": "2023-02-24T05:36:26.184349Z",
     "start_time": "2023-02-24T05:36:26.158182Z"
    }
   },
   "outputs": [],
   "source": [
    "def getClassificationEvaluation(actuals:list,predictions:list,labels:list):\n",
    "    classification_data=confusion_matrix(\n",
    "    [class_list[i] for i in actuals],\n",
    "    [class_list[numpy.argmax(prediction)] for prediction in predictions]\n",
    "    )\n",
    "    seaborn.heatmap(classification_data,annot=True,xticklabels=labels, yticklabels=labels)\n",
    "    pyplot.show()\n",
    "    print(classification_report(\n",
    "    [class_list[i] for i in actuals],\n",
    "    [class_list[numpy.argmax(prediction)] for prediction in predictions]\n",
    "    ))"
   ]
  },
  {
   "cell_type": "code",
   "execution_count": null,
   "id": "9f597df5",
   "metadata": {},
   "outputs": [],
   "source": []
  },
  {
   "cell_type": "markdown",
   "id": "072aded2",
   "metadata": {},
   "source": [
    "# Data Import"
   ]
  },
  {
   "cell_type": "code",
   "execution_count": 101,
   "id": "8fbbef13",
   "metadata": {
    "ExecuteTime": {
     "end_time": "2023-02-24T05:59:08.373004Z",
     "start_time": "2023-02-24T05:59:08.255957Z"
    }
   },
   "outputs": [],
   "source": [
    "pickle_training_features=open(Object_Data_Path+\"pickle_training_features_1.pickle\",\"rb\")\n",
    "Training_Features=pickle.load(pickle_training_features)\n",
    "pickle_training_features.close()\n",
    "pickle_training_labels=open(Object_Data_Path+\"pickle_training_labels_1.pickle\",\"rb\")\n",
    "Training_Labels=pickle.load(pickle_training_labels)\n",
    "pickle_training_labels.close()"
   ]
  },
  {
   "cell_type": "code",
   "execution_count": 102,
   "id": "d694068e",
   "metadata": {
    "ExecuteTime": {
     "end_time": "2023-02-24T05:59:08.752093Z",
     "start_time": "2023-02-24T05:59:08.739094Z"
    }
   },
   "outputs": [
    {
     "data": {
      "text/plain": [
       "(325, 320, 320)"
      ]
     },
     "execution_count": 102,
     "metadata": {},
     "output_type": "execute_result"
    }
   ],
   "source": [
    "Training_Features.shape"
   ]
  },
  {
   "cell_type": "code",
   "execution_count": 103,
   "id": "dbe50c79",
   "metadata": {
    "ExecuteTime": {
     "end_time": "2023-02-24T05:59:09.288295Z",
     "start_time": "2023-02-24T05:59:09.256304Z"
    }
   },
   "outputs": [],
   "source": [
    "pickle_testing_features=open(Object_Data_Path+\"pickle_testing_features_1.pickle\",\"rb\")\n",
    "Testing_Features=pickle.load(pickle_testing_features)\n",
    "pickle_testing_features.close()\n",
    "pickle_testing_labels=open(Object_Data_Path+\"pickle_testing_labels_1.pickle\",\"rb\")\n",
    "Testing_Labels=pickle.load(pickle_testing_labels)\n",
    "pickle_testing_labels.close()"
   ]
  },
  {
   "cell_type": "code",
   "execution_count": 104,
   "id": "28cef91b",
   "metadata": {
    "ExecuteTime": {
     "end_time": "2023-02-24T05:59:09.663730Z",
     "start_time": "2023-02-24T05:59:09.648041Z"
    }
   },
   "outputs": [
    {
     "data": {
      "text/plain": [
       "(77, 320, 320)"
      ]
     },
     "execution_count": 104,
     "metadata": {},
     "output_type": "execute_result"
    }
   ],
   "source": [
    "Testing_Features.shape"
   ]
  },
  {
   "cell_type": "code",
   "execution_count": 108,
   "id": "0855cab1",
   "metadata": {
    "ExecuteTime": {
     "end_time": "2023-02-24T06:00:49.497832Z",
     "start_time": "2023-02-24T06:00:49.419429Z"
    }
   },
   "outputs": [],
   "source": [
    "Total_Testing_Features=numpy.concatenate((Training_Features,Testing_Features))"
   ]
  },
  {
   "cell_type": "code",
   "execution_count": 109,
   "id": "22d2adfa",
   "metadata": {
    "ExecuteTime": {
     "end_time": "2023-02-24T06:01:13.095567Z",
     "start_time": "2023-02-24T06:01:13.078999Z"
    }
   },
   "outputs": [],
   "source": [
    "Total_Testing_Labels=numpy.concatenate((Training_Labels,Testing_Labels))"
   ]
  },
  {
   "cell_type": "code",
   "execution_count": 111,
   "id": "9b3e5aff",
   "metadata": {
    "ExecuteTime": {
     "end_time": "2023-02-24T06:01:34.348306Z",
     "start_time": "2023-02-24T06:01:34.339307Z"
    }
   },
   "outputs": [
    {
     "data": {
      "text/plain": [
       "((402, 320, 320), (402,))"
      ]
     },
     "execution_count": 111,
     "metadata": {},
     "output_type": "execute_result"
    }
   ],
   "source": [
    "Total_Testing_Features.shape,Total_Testing_Labels.shape"
   ]
  },
  {
   "cell_type": "markdown",
   "id": "53e244ef",
   "metadata": {},
   "source": [
    "### Praparing Data for Training"
   ]
  },
  {
   "cell_type": "markdown",
   "id": "ecfc7cf4",
   "metadata": {},
   "source": [
    "#### For Two Dimesion Data"
   ]
  },
  {
   "cell_type": "code",
   "execution_count": 119,
   "id": "f960ed4d",
   "metadata": {
    "ExecuteTime": {
     "end_time": "2023-02-24T06:04:12.015040Z",
     "start_time": "2023-02-24T06:04:12.000041Z"
    }
   },
   "outputs": [],
   "source": [
    "Training_Features=numpy.expand_dims(Training_Features,axis=-1)\n",
    "Testing_Features=numpy.expand_dims(Testing_Features,axis=-1)"
   ]
  },
  {
   "cell_type": "code",
   "execution_count": 120,
   "id": "30f6d084",
   "metadata": {
    "ExecuteTime": {
     "end_time": "2023-02-24T06:04:12.423202Z",
     "start_time": "2023-02-24T06:04:12.414225Z"
    }
   },
   "outputs": [],
   "source": [
    "input_dimension=Training_Features[0].shape"
   ]
  },
  {
   "cell_type": "markdown",
   "id": "46bc3ce5",
   "metadata": {},
   "source": [
    "#### For Three Dimention Data"
   ]
  },
  {
   "cell_type": "code",
   "execution_count": null,
   "id": "0388ee30",
   "metadata": {},
   "outputs": [],
   "source": []
  },
  {
   "cell_type": "markdown",
   "id": "7d2fb4f9",
   "metadata": {},
   "source": [
    "# Model Implementaion"
   ]
  },
  {
   "cell_type": "code",
   "execution_count": 121,
   "id": "9d4b9ee8",
   "metadata": {
    "ExecuteTime": {
     "end_time": "2023-02-24T06:04:15.731424Z",
     "start_time": "2023-02-24T06:04:15.716610Z"
    }
   },
   "outputs": [
    {
     "data": {
      "text/plain": [
       "(320, 320, 1)"
      ]
     },
     "execution_count": 121,
     "metadata": {},
     "output_type": "execute_result"
    }
   ],
   "source": [
    "input_dimension"
   ]
  },
  {
   "cell_type": "markdown",
   "id": "9d7561d1",
   "metadata": {},
   "source": [
    "### Model Definition"
   ]
  },
  {
   "cell_type": "code",
   "execution_count": 174,
   "id": "84172a4c",
   "metadata": {
    "ExecuteTime": {
     "end_time": "2023-02-24T06:37:46.318790Z",
     "start_time": "2023-02-24T06:37:45.759045Z"
    }
   },
   "outputs": [],
   "source": [
    "Model=keras.models.Sequential([\n",
    "    keras.layers.Conv2D(filters=32, kernel_size=3, strides=(1,1), padding='valid',activation= 'relu', input_shape=input_dimension),\n",
    "    keras.layers.MaxPooling2D(pool_size=(3,3)),\n",
    "    keras.layers.Conv2D(filters=16, kernel_size=3, strides=(1,1), padding='valid',activation= 'relu'),\n",
    "    keras.layers.MaxPooling2D(pool_size=(2,2)),\n",
    "#     keras.layers.MaxPooling2D(pool_size=(2,2)),\n",
    "    keras.layers.Reshape((169,256)),\n",
    "    keras.layers.LSTM(128,return_sequences=True),\n",
    "    keras.layers.LSTM(64,return_sequences=True),\n",
    "    keras.layers.Flatten(),\n",
    "    keras.layers.Dense(units=512, activation='relu'),\n",
    "    keras.layers.Dense(units=64, activation='relu'),\n",
    "    keras.layers.Dense(units=len(class_list), activation='softmax')\n",
    "    ]\n",
    " )"
   ]
  },
  {
   "cell_type": "code",
   "execution_count": 175,
   "id": "4cfffaa3",
   "metadata": {
    "ExecuteTime": {
     "end_time": "2023-02-24T06:37:48.666345Z",
     "start_time": "2023-02-24T06:37:48.650346Z"
    }
   },
   "outputs": [
    {
     "data": {
      "text/plain": [
       "<keras.engine.sequential.Sequential at 0x2303cc9d900>"
      ]
     },
     "execution_count": 175,
     "metadata": {},
     "output_type": "execute_result"
    }
   ],
   "source": [
    "Model"
   ]
  },
  {
   "cell_type": "code",
   "execution_count": 176,
   "id": "52bccdcf",
   "metadata": {
    "ExecuteTime": {
     "end_time": "2023-02-24T06:37:49.118457Z",
     "start_time": "2023-02-24T06:37:49.074458Z"
    }
   },
   "outputs": [
    {
     "name": "stdout",
     "output_type": "stream",
     "text": [
      "Model: \"sequential_14\"\n",
      "_________________________________________________________________\n",
      " Layer (type)                Output Shape              Param #   \n",
      "=================================================================\n",
      " conv2d_30 (Conv2D)          (None, 318, 318, 32)      320       \n",
      "                                                                 \n",
      " max_pooling2d_40 (MaxPoolin  (None, 106, 106, 32)     0         \n",
      " g2D)                                                            \n",
      "                                                                 \n",
      " conv2d_31 (Conv2D)          (None, 104, 104, 16)      4624      \n",
      "                                                                 \n",
      " max_pooling2d_41 (MaxPoolin  (None, 52, 52, 16)       0         \n",
      " g2D)                                                            \n",
      "                                                                 \n",
      " reshape_8 (Reshape)         (None, 169, 256)          0         \n",
      "                                                                 \n",
      " lstm_16 (LSTM)              (None, 169, 128)          197120    \n",
      "                                                                 \n",
      " lstm_17 (LSTM)              (None, 169, 64)           49408     \n",
      "                                                                 \n",
      " flatten_14 (Flatten)        (None, 10816)             0         \n",
      "                                                                 \n",
      " dense_42 (Dense)            (None, 512)               5538304   \n",
      "                                                                 \n",
      " dense_43 (Dense)            (None, 64)                32832     \n",
      "                                                                 \n",
      " dense_44 (Dense)            (None, 3)                 195       \n",
      "                                                                 \n",
      "=================================================================\n",
      "Total params: 5,822,803\n",
      "Trainable params: 5,822,803\n",
      "Non-trainable params: 0\n",
      "_________________________________________________________________\n"
     ]
    }
   ],
   "source": [
    "Model.summary()"
   ]
  },
  {
   "cell_type": "code",
   "execution_count": 177,
   "id": "750cf8f4",
   "metadata": {
    "ExecuteTime": {
     "end_time": "2023-02-24T06:37:50.195681Z",
     "start_time": "2023-02-24T06:37:50.174644Z"
    }
   },
   "outputs": [],
   "source": [
    "layer_outputs = [layer.output for layer in Model.layers]"
   ]
  },
  {
   "cell_type": "code",
   "execution_count": 188,
   "id": "3da48629",
   "metadata": {
    "ExecuteTime": {
     "end_time": "2023-02-24T06:40:25.394714Z",
     "start_time": "2023-02-24T06:40:25.381714Z"
    }
   },
   "outputs": [
    {
     "data": {
      "text/plain": [
       "[<KerasTensor: shape=(None, 318, 318, 32) dtype=float32 (created by layer 'conv2d_30')>,\n",
       " <KerasTensor: shape=(None, 106, 106, 32) dtype=float32 (created by layer 'max_pooling2d_40')>,\n",
       " <KerasTensor: shape=(None, 104, 104, 16) dtype=float32 (created by layer 'conv2d_31')>,\n",
       " <KerasTensor: shape=(None, 52, 52, 16) dtype=float32 (created by layer 'max_pooling2d_41')>,\n",
       " <KerasTensor: shape=(None, 169, 256) dtype=float32 (created by layer 'reshape_8')>,\n",
       " <KerasTensor: shape=(None, 169, 128) dtype=float32 (created by layer 'lstm_16')>,\n",
       " <KerasTensor: shape=(None, 169, 64) dtype=float32 (created by layer 'lstm_17')>,\n",
       " <KerasTensor: shape=(None, 10816) dtype=float32 (created by layer 'flatten_14')>,\n",
       " <KerasTensor: shape=(None, 512) dtype=float32 (created by layer 'dense_42')>,\n",
       " <KerasTensor: shape=(None, 64) dtype=float32 (created by layer 'dense_43')>,\n",
       " <KerasTensor: shape=(None, 3) dtype=float32 (created by layer 'dense_44')>]"
      ]
     },
     "execution_count": 188,
     "metadata": {},
     "output_type": "execute_result"
    }
   ],
   "source": [
    "layer_outputs"
   ]
  },
  {
   "cell_type": "code",
   "execution_count": 179,
   "id": "cf3545c3",
   "metadata": {
    "ExecuteTime": {
     "end_time": "2023-02-24T06:37:51.675017Z",
     "start_time": "2023-02-24T06:37:51.666013Z"
    }
   },
   "outputs": [
    {
     "data": {
      "text/plain": [
       "<KerasTensor: shape=(None, 320, 320, 1) dtype=float32 (created by layer 'conv2d_30_input')>"
      ]
     },
     "execution_count": 179,
     "metadata": {},
     "output_type": "execute_result"
    }
   ],
   "source": [
    "Model.input"
   ]
  },
  {
   "cell_type": "code",
   "execution_count": 189,
   "id": "53373aad",
   "metadata": {
    "ExecuteTime": {
     "end_time": "2023-02-24T06:41:49.224991Z",
     "start_time": "2023-02-24T06:41:49.202008Z"
    }
   },
   "outputs": [],
   "source": [
    "feature_map_model = tensorflow.keras.models.Model(inputs=Model.input, outputs=layer_outputs)"
   ]
  },
  {
   "cell_type": "code",
   "execution_count": 190,
   "id": "b572d67b",
   "metadata": {
    "ExecuteTime": {
     "end_time": "2023-02-24T06:41:50.102826Z",
     "start_time": "2023-02-24T06:41:50.080864Z"
    },
    "scrolled": true
   },
   "outputs": [
    {
     "data": {
      "text/plain": [
       "<keras.engine.functional.Functional at 0x2303cec3850>"
      ]
     },
     "execution_count": 190,
     "metadata": {},
     "output_type": "execute_result"
    }
   ],
   "source": [
    "feature_map_model"
   ]
  },
  {
   "cell_type": "code",
   "execution_count": 191,
   "id": "793b7f44",
   "metadata": {
    "ExecuteTime": {
     "end_time": "2023-02-24T06:41:50.541236Z",
     "start_time": "2023-02-24T06:41:50.527469Z"
    }
   },
   "outputs": [
    {
     "data": {
      "text/plain": [
       "(320, 320)"
      ]
     },
     "execution_count": 191,
     "metadata": {},
     "output_type": "execute_result"
    }
   ],
   "source": [
    "Total_Testing_Features[0].shape"
   ]
  },
  {
   "cell_type": "code",
   "execution_count": 203,
   "id": "748f43b5",
   "metadata": {
    "ExecuteTime": {
     "end_time": "2023-02-24T06:47:20.089611Z",
     "start_time": "2023-02-24T06:47:19.980831Z"
    }
   },
   "outputs": [
    {
     "name": "stdout",
     "output_type": "stream",
     "text": [
      "1/1 [==============================] - 0s 53ms/step\n"
     ]
    }
   ],
   "source": [
    "feature_maps=feature_map_model.predict(numpy.expand_dims(Total_Testing_Features[0],axis=0))"
   ]
  },
  {
   "cell_type": "code",
   "execution_count": 199,
   "id": "8f68f32f",
   "metadata": {
    "ExecuteTime": {
     "end_time": "2023-02-24T06:45:28.733230Z",
     "start_time": "2023-02-24T06:45:28.723017Z"
    }
   },
   "outputs": [
    {
     "data": {
      "text/plain": [
       "<keras.engine.functional.Functional at 0x2303cec3850>"
      ]
     },
     "execution_count": 199,
     "metadata": {},
     "output_type": "execute_result"
    }
   ],
   "source": [
    "feature_map_model"
   ]
  },
  {
   "cell_type": "code",
   "execution_count": 201,
   "id": "c60676a1",
   "metadata": {
    "ExecuteTime": {
     "end_time": "2023-02-24T06:47:06.068153Z",
     "start_time": "2023-02-24T06:47:06.051159Z"
    }
   },
   "outputs": [],
   "source": [
    "layer_names = [layer.name for layer in Model.layers]"
   ]
  },
  {
   "cell_type": "code",
   "execution_count": 208,
   "id": "7e8be76d",
   "metadata": {
    "ExecuteTime": {
     "end_time": "2023-02-24T06:52:26.196548Z",
     "start_time": "2023-02-24T06:52:26.179561Z"
    }
   },
   "outputs": [
    {
     "name": "stdout",
     "output_type": "stream",
     "text": [
      "The shape of the conv2d_30 is =======>> (1, 318, 318, 32)\n",
      "The shape of the max_pooling2d_40 is =======>> (1, 106, 106, 32)\n",
      "The shape of the conv2d_31 is =======>> (1, 104, 104, 16)\n",
      "The shape of the max_pooling2d_41 is =======>> (1, 52, 52, 16)\n",
      "The shape of the reshape_8 is =======>> (1, 169, 256)\n",
      "The shape of the lstm_16 is =======>> (1, 169, 128)\n",
      "The shape of the lstm_17 is =======>> (1, 169, 64)\n",
      "The shape of the flatten_14 is =======>> (1, 10816)\n",
      "The shape of the dense_42 is =======>> (1, 512)\n",
      "The shape of the dense_43 is =======>> (1, 64)\n",
      "The shape of the dense_44 is =======>> (1, 3)\n"
     ]
    }
   ],
   "source": [
    "for layer_name, feature_map in zip(layer_names, feature_maps):\n",
    "    print(f\"The shape of the {layer_name} is =======>> {feature_map.shape}\")"
   ]
  },
  {
   "cell_type": "code",
   "execution_count": null,
   "id": "3f366673",
   "metadata": {},
   "outputs": [],
   "source": []
  },
  {
   "cell_type": "code",
   "execution_count": null,
   "id": "b855b505",
   "metadata": {},
   "outputs": [],
   "source": []
  },
  {
   "cell_type": "code",
   "execution_count": null,
   "id": "f32af8b4",
   "metadata": {},
   "outputs": [],
   "source": []
  },
  {
   "cell_type": "code",
   "execution_count": null,
   "id": "32233fe1",
   "metadata": {},
   "outputs": [],
   "source": []
  },
  {
   "cell_type": "code",
   "execution_count": 97,
   "id": "2a04d29f",
   "metadata": {
    "ExecuteTime": {
     "end_time": "2023-02-24T05:56:10.675230Z",
     "start_time": "2023-02-24T05:56:10.523966Z"
    }
   },
   "outputs": [
    {
     "data": {
      "image/png": "[encoded data removed]",
      "text/plain": [
       "<IPython.core.display.Image object>"
      ]
     },
     "execution_count": 97,
     "metadata": {},
     "output_type": "execute_result"
    }
   ],
   "source": [
    "plot_model(Model, to_file='./Graphs/defined_model_1_plot.png', show_shapes=True, show_layer_names=True)"
   ]
  },
  {
   "cell_type": "markdown",
   "id": "94b81710",
   "metadata": {},
   "source": [
    "## Training"
   ]
  },
  {
   "cell_type": "code",
   "execution_count": 155,
   "id": "6b6674a6",
   "metadata": {
    "ExecuteTime": {
     "end_time": "2023-02-24T06:32:01.447604Z",
     "start_time": "2023-02-24T06:32:01.428602Z"
    }
   },
   "outputs": [],
   "source": [
    "Model.compile(\n",
    "    optimizer='adam',\n",
    "    loss='sparse_categorical_crossentropy',\n",
    "    metrics=['accuracy']\n",
    ")"
   ]
  },
  {
   "cell_type": "code",
   "execution_count": 156,
   "id": "8f3ac69c",
   "metadata": {
    "ExecuteTime": {
     "end_time": "2023-02-24T06:32:35.466762Z",
     "start_time": "2023-02-24T06:32:02.296652Z"
    }
   },
   "outputs": [
    {
     "name": "stdout",
     "output_type": "stream",
     "text": [
      "Epoch 1/2\n",
      "11/11 [==============================] - 17s 1s/step - loss: 1.0147 - accuracy: 0.4677 - val_loss: 1.1921 - val_accuracy: 0.4805\n",
      "Epoch 2/2\n",
      "11/11 [==============================] - 16s 1s/step - loss: 0.9131 - accuracy: 0.6185 - val_loss: 0.9776 - val_accuracy: 0.5455\n"
     ]
    },
    {
     "data": {
      "text/plain": [
       "<keras.callbacks.History at 0x23029612f20>"
      ]
     },
     "execution_count": 156,
     "metadata": {},
     "output_type": "execute_result"
    }
   ],
   "source": [
    "Model.fit(\n",
    "    Training_Features,Training_Labels,\n",
    "    epochs=2,\n",
    "    verbose=1,\n",
    "    validation_data=(Testing_Features,Testing_Labels)\n",
    ")"
   ]
  },
  {
   "cell_type": "code",
   "execution_count": null,
   "id": "1e38ed24",
   "metadata": {},
   "outputs": [],
   "source": []
  },
  {
   "cell_type": "markdown",
   "id": "656ce2d7",
   "metadata": {},
   "source": [
    "# Model Evaluation"
   ]
  },
  {
   "cell_type": "markdown",
   "id": "4d034b4d",
   "metadata": {},
   "source": [
    "### Training Evaluation"
   ]
  },
  {
   "cell_type": "code",
   "execution_count": 123,
   "id": "c92cabf4",
   "metadata": {
    "ExecuteTime": {
     "end_time": "2023-02-24T06:06:48.295392Z",
     "start_time": "2023-02-24T06:06:44.377368Z"
    }
   },
   "outputs": [
    {
     "name": "stdout",
     "output_type": "stream",
     "text": [
      "11/11 [==============================] - 4s 283ms/step\n"
     ]
    }
   ],
   "source": [
    "Training_Predictions=Model.predict(Training_Features)"
   ]
  },
  {
   "cell_type": "code",
   "execution_count": 124,
   "id": "e4415e65",
   "metadata": {
    "ExecuteTime": {
     "end_time": "2023-02-24T06:06:48.481394Z",
     "start_time": "2023-02-24T06:06:48.297393Z"
    }
   },
   "outputs": [
    {
     "data": {
      "image/png": "[encoded data removed]",
      "text/plain": [
       "<Figure size 640x480 with 2 Axes>"
      ]
     },
     "metadata": {},
     "output_type": "display_data"
    },
    {
     "name": "stdout",
     "output_type": "stream",
     "text": [
      "              precision    recall  f1-score   support\n",
      "\n",
      "      Cotton       0.68      0.95      0.80       125\n",
      "   Sugarcane       0.80      0.82      0.81       100\n",
      "       Wheat       0.96      0.47      0.63       100\n",
      "\n",
      "    accuracy                           0.76       325\n",
      "   macro avg       0.82      0.75      0.75       325\n",
      "weighted avg       0.81      0.76      0.75       325\n",
      "\n"
     ]
    }
   ],
   "source": [
    "getClassificationEvaluation(Training_Labels,Training_Predictions,class_list)"
   ]
  },
  {
   "cell_type": "markdown",
   "id": "5e9ea262",
   "metadata": {},
   "source": [
    "### Testing Evaluation"
   ]
  },
  {
   "cell_type": "code",
   "execution_count": 125,
   "id": "6cf79bf4",
   "metadata": {
    "ExecuteTime": {
     "end_time": "2023-02-24T06:06:49.257309Z",
     "start_time": "2023-02-24T06:06:48.482393Z"
    }
   },
   "outputs": [
    {
     "name": "stdout",
     "output_type": "stream",
     "text": [
      "3/3 [==============================] - 1s 203ms/step\n"
     ]
    }
   ],
   "source": [
    "Testing_Predictions=Model.predict(Testing_Features)"
   ]
  },
  {
   "cell_type": "code",
   "execution_count": 126,
   "id": "1f756009",
   "metadata": {
    "ExecuteTime": {
     "end_time": "2023-02-24T06:06:49.479397Z",
     "start_time": "2023-02-24T06:06:49.259309Z"
    }
   },
   "outputs": [
    {
     "data": {
      "image/png": "[encoded data removed]",
      "text/plain": [
       "<Figure size 640x480 with 2 Axes>"
      ]
     },
     "metadata": {},
     "output_type": "display_data"
    },
    {
     "name": "stdout",
     "output_type": "stream",
     "text": [
      "              precision    recall  f1-score   support\n",
      "\n",
      "      Cotton       0.56      0.96      0.71        28\n",
      "   Sugarcane       0.81      0.52      0.63        25\n",
      "       Wheat       0.77      0.42      0.54        24\n",
      "\n",
      "    accuracy                           0.65        77\n",
      "   macro avg       0.71      0.63      0.63        77\n",
      "weighted avg       0.71      0.65      0.63        77\n",
      "\n"
     ]
    }
   ],
   "source": [
    "getClassificationEvaluation(Testing_Labels,Testing_Predictions,class_list)"
   ]
  },
  {
   "cell_type": "markdown",
   "id": "01afd171",
   "metadata": {},
   "source": [
    "### Overall Testing "
   ]
  },
  {
   "cell_type": "code",
   "execution_count": 127,
   "id": "334b998b",
   "metadata": {
    "ExecuteTime": {
     "end_time": "2023-02-24T06:06:53.557216Z",
     "start_time": "2023-02-24T06:06:49.482313Z"
    }
   },
   "outputs": [
    {
     "name": "stdout",
     "output_type": "stream",
     "text": [
      "13/13 [==============================] - 4s 304ms/step\n"
     ]
    }
   ],
   "source": [
    "Total_Testing_Predictions=Model.predict(Total_Testing_Features)"
   ]
  },
  {
   "cell_type": "code",
   "execution_count": 128,
   "id": "08dc288e",
   "metadata": {
    "ExecuteTime": {
     "end_time": "2023-02-24T06:06:53.762384Z",
     "start_time": "2023-02-24T06:06:53.559187Z"
    }
   },
   "outputs": [
    {
     "data": {
      "image/png": "[encoded data removed]",
      "text/plain": [
       "<Figure size 640x480 with 2 Axes>"
      ]
     },
     "metadata": {},
     "output_type": "display_data"
    },
    {
     "name": "stdout",
     "output_type": "stream",
     "text": [
      "              precision    recall  f1-score   support\n",
      "\n",
      "      Cotton       0.66      0.95      0.78       153\n",
      "   Sugarcane       0.81      0.76      0.78       125\n",
      "       Wheat       0.92      0.46      0.61       124\n",
      "\n",
      "    accuracy                           0.74       402\n",
      "   macro avg       0.79      0.72      0.72       402\n",
      "weighted avg       0.78      0.74      0.73       402\n",
      "\n"
     ]
    }
   ],
   "source": [
    "getClassificationEvaluation(Total_Testing_Labels,Total_Testing_Predictions,class_list)"
   ]
  },
  {
   "cell_type": "markdown",
   "id": "49d9722f",
   "metadata": {},
   "source": [
    "### Saving Temporary Model"
   ]
  },
  {
   "cell_type": "code",
   "execution_count": 129,
   "id": "6ac80c52",
   "metadata": {
    "ExecuteTime": {
     "end_time": "2023-02-24T06:07:45.137024Z",
     "start_time": "2023-02-24T06:07:45.000017Z"
    }
   },
   "outputs": [],
   "source": [
    "Model.save(\"./Models/DefinedModel_1.h5\")"
   ]
  },
  {
   "cell_type": "markdown",
   "id": "dc8221d5",
   "metadata": {},
   "source": [
    "# Model Saving"
   ]
  },
  {
   "cell_type": "code",
   "execution_count": 130,
   "id": "ccdf7f17",
   "metadata": {
    "ExecuteTime": {
     "end_time": "2023-02-24T06:07:46.590931Z",
     "start_time": "2023-02-24T06:07:46.254385Z"
    }
   },
   "outputs": [],
   "source": [
    "Model.save(\"../Model/DefinedModel_2.h5\")"
   ]
  },
  {
   "cell_type": "code",
   "execution_count": null,
   "id": "572b19f1",
   "metadata": {},
   "outputs": [],
   "source": []
  }
 ],
 "metadata": {
  "hide_input": false,
  "kernelspec": {
   "display_name": "Python 3 (ipykernel)",
   "language": "python",
   "name": "python3"
  },
  "language_info": {
   "codemirror_mode": {
    "name": "ipython",
    "version": 3
   },
   "file_extension": ".py",
   "mimetype": "text/x-python",
   "name": "python",
   "nbconvert_exporter": "python",
   "pygments_lexer": "ipython3",
   "version": "3.10.8"
  }
 },
 "nbformat": 4,
 "nbformat_minor": 5
}
