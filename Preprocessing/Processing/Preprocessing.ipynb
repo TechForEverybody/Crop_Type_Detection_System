{
 "cells": [
  {
   "cell_type": "markdown",
   "id": "4a752ebc",
   "metadata": {},
   "source": [
    "<h1 style=\"text-align: center;font-size: 36px;color:darkblue;\">Preprocessing</h1>"
   ]
  },
  {
   "cell_type": "markdown",
   "id": "74181a1d",
   "metadata": {
    "ExecuteTime": {
     "end_time": "2023-01-25T19:57:54.764294Z",
     "start_time": "2023-01-25T19:57:54.755294Z"
    }
   },
   "source": [
    "# Imports"
   ]
  },
  {
   "cell_type": "code",
   "execution_count": 33,
   "id": "d9618349",
   "metadata": {
    "ExecuteTime": {
     "end_time": "2023-02-24T05:13:46.112065Z",
     "start_time": "2023-02-24T05:13:46.096477Z"
    }
   },
   "outputs": [],
   "source": [
    "import pandas\n",
    "import numpy\n",
    "import seaborn\n",
    "import matplotlib.pyplot as pyplot\n",
    "import cv2\n",
    "import os\n",
    "import warnings\n",
    "import random\n",
    "import pickle\n",
    "import skimage"
   ]
  },
  {
   "cell_type": "markdown",
   "id": "3f045b83",
   "metadata": {},
   "source": [
    "# Configurations"
   ]
  },
  {
   "cell_type": "code",
   "execution_count": 3,
   "id": "895c1adf",
   "metadata": {
    "ExecuteTime": {
     "end_time": "2023-01-25T20:05:24.182655Z",
     "start_time": "2023-01-25T20:05:23.865575Z"
    }
   },
   "outputs": [],
   "source": [
    "# %matplotlib qt;\n",
    "%matplotlib inline\n",
    "pyplot.rcParams[\"figure.figsize\"] = (5, 3)"
   ]
  },
  {
   "cell_type": "code",
   "execution_count": 3,
   "id": "86ac398e",
   "metadata": {
    "ExecuteTime": {
     "end_time": "2023-02-24T04:58:16.393369Z",
     "start_time": "2023-02-24T04:58:16.379403Z"
    }
   },
   "outputs": [],
   "source": [
    "# warnings.filterwarnings('ignore')"
   ]
  },
  {
   "cell_type": "code",
   "execution_count": 4,
   "id": "df339861",
   "metadata": {
    "ExecuteTime": {
     "end_time": "2023-02-24T04:58:16.666500Z",
     "start_time": "2023-02-24T04:58:16.649480Z"
    }
   },
   "outputs": [],
   "source": [
    "Training_Data_Path=\"../../Data/Main_Data/Training_Data/\"\n",
    "Testing_Data_Path=\"../../Data/Main_Data/Testing_Data/\""
   ]
  },
  {
   "cell_type": "code",
   "execution_count": 18,
   "id": "cb8bce13",
   "metadata": {
    "ExecuteTime": {
     "end_time": "2023-02-24T05:06:02.332814Z",
     "start_time": "2023-02-24T05:06:02.322100Z"
    }
   },
   "outputs": [],
   "source": [
    "Saving_Path=\"../../Data/Preprocessed_Data/\""
   ]
  },
  {
   "cell_type": "code",
   "execution_count": 5,
   "id": "df279896",
   "metadata": {
    "ExecuteTime": {
     "end_time": "2023-02-24T04:58:17.010729Z",
     "start_time": "2023-02-24T04:58:16.993309Z"
    }
   },
   "outputs": [],
   "source": [
    "class_list=os.listdir(Training_Data_Path)"
   ]
  },
  {
   "cell_type": "code",
   "execution_count": 6,
   "id": "1af8f61c",
   "metadata": {
    "ExecuteTime": {
     "end_time": "2023-02-24T04:58:17.462336Z",
     "start_time": "2023-02-24T04:58:17.446903Z"
    }
   },
   "outputs": [],
   "source": [
    "resize_dimension=(320,320)"
   ]
  },
  {
   "cell_type": "markdown",
   "id": "1d5065ae",
   "metadata": {},
   "source": [
    "## Methods"
   ]
  },
  {
   "cell_type": "code",
   "execution_count": 1,
   "id": "1e17b8e2",
   "metadata": {
    "ExecuteTime": {
     "end_time": "2023-02-24T04:57:37.194004Z",
     "start_time": "2023-02-24T04:57:37.180366Z"
    }
   },
   "outputs": [],
   "source": [
    "def getMaxMinMeanMethodBasedArray(image_array,method='mean',range_=(0,255)):\n",
    "    temp_array=[]\n",
    "    for x in image_array:\n",
    "        rows=[]\n",
    "        for y in x:\n",
    "            value=0\n",
    "            if method=='mean':\n",
    "                value=sum(y)/len(y)\n",
    "            elif method=='max':\n",
    "                value=max(y)\n",
    "            elif method=='min':\n",
    "                value=min(y)\n",
    "            if value<range_[0] or value>range_[1]:\n",
    "                value=0\n",
    "            rows.append(value)\n",
    "        temp_array.append(rows)\n",
    "    temp_array=numpy.array(temp_array)\n",
    "    return temp_array"
   ]
  },
  {
   "cell_type": "code",
   "execution_count": 24,
   "id": "0fe542b0",
   "metadata": {
    "ExecuteTime": {
     "end_time": "2023-02-24T05:08:20.114846Z",
     "start_time": "2023-02-24T05:08:20.101362Z"
    }
   },
   "outputs": [],
   "source": [
    "def getMaxMinMeanMethodImagesData(folder_path,size=False,list_of_classes=[i for i in class_list],columns=3,rows=3,method='mean',range_=(60,200)):\n",
    "    Data=[]\n",
    "    for class_name in list_of_classes:\n",
    "        print(class_name)\n",
    "        class_path=os.path.join(folder_path,class_name)\n",
    "        counter=0\n",
    "#         figure=pyplot.figure(figsize=(12, 8))\n",
    "        for image_name in os.listdir(class_path):\n",
    "            counter+=1\n",
    "            print(counter,end=\",\")\n",
    "            image_array=cv2.imread(os.path.join(class_path,image_name),cv2.IMREAD_COLOR)\n",
    "            image_array=cv2.cvtColor(image_array,cv2.COLOR_BGR2RGB)\n",
    "            image_array=cv2.resize(image_array,resize_dimension)\n",
    "            image_array=getMaxMinMeanMethodBasedArray(image_array,method=method,range_=range_)\n",
    "            Data.append([image_array,class_list.index(class_name)])\n",
    "#             figure.add_subplot(rows,columns, counter)\n",
    "#             pyplot.imshow(image_array)\n",
    "            if size!=False and counter>=size:\n",
    "                break\n",
    "#         pyplot.show()\n",
    "        print()\n",
    "        print(\"Total\",counter,\"Images is Readed\")\n",
    "    return Data"
   ]
  },
  {
   "cell_type": "code",
   "execution_count": 25,
   "id": "a6579343",
   "metadata": {
    "ExecuteTime": {
     "end_time": "2023-02-24T05:10:36.058246Z",
     "start_time": "2023-02-24T05:08:21.389728Z"
    }
   },
   "outputs": [
    {
     "name": "stdout",
     "output_type": "stream",
     "text": [
      "Cotton\n",
      "1,2,3,4,5,6,7,8,9,10,11,12,13,14,15,16,17,18,19,20,21,22,23,24,25,26,27,28,29,30,31,32,33,34,35,36,37,38,39,40,41,42,43,44,45,46,47,48,49,50,51,52,53,54,55,56,57,58,59,60,61,62,63,64,65,66,67,68,69,70,71,72,73,74,75,76,77,78,79,80,81,82,83,84,85,86,87,88,89,90,91,92,93,94,95,96,97,98,99,100,101,102,103,104,105,106,107,108,109,110,111,112,113,114,115,116,117,118,119,120,121,122,123,124,125,\n",
      "Total 125 Images is Readed\n",
      "Sugarcane\n",
      "1,2,3,4,5,6,7,8,9,10,11,12,13,14,15,16,17,18,19,20,21,22,23,24,25,26,27,28,29,30,31,32,33,34,35,36,37,38,39,40,41,42,43,44,45,46,47,48,49,50,51,52,53,54,55,56,57,58,59,60,61,62,63,64,65,66,67,68,69,70,71,72,73,74,75,76,77,78,79,80,81,82,83,84,85,86,87,88,89,90,91,92,93,94,95,96,97,98,99,100,\n",
      "Total 100 Images is Readed\n",
      "Wheat\n",
      "1,2,3,4,5,6,7,8,9,10,11,12,13,14,15,16,17,18,19,20,21,22,23,24,25,26,27,28,29,30,31,32,33,34,35,36,37,38,39,40,41,42,43,44,45,46,47,48,49,50,51,52,53,54,55,56,57,58,59,60,61,62,63,64,65,66,67,68,69,70,71,72,73,74,75,76,77,78,79,80,81,82,83,84,85,86,87,88,89,90,91,92,93,94,95,96,97,98,99,100,\n",
      "Total 100 Images is Readed\n"
     ]
    }
   ],
   "source": [
    "Training_Data=getMaxMinMeanMethodImagesData(Training_Data_Path,range_=(20,240))"
   ]
  },
  {
   "cell_type": "code",
   "execution_count": 26,
   "id": "7a6dda19",
   "metadata": {
    "ExecuteTime": {
     "end_time": "2023-02-24T05:12:56.692540Z",
     "start_time": "2023-02-24T05:12:56.667880Z"
    }
   },
   "outputs": [],
   "source": [
    "random.shuffle(Training_Data)"
   ]
  },
  {
   "cell_type": "code",
   "execution_count": 27,
   "id": "1abd2898",
   "metadata": {
    "ExecuteTime": {
     "end_time": "2023-02-24T05:12:57.735014Z",
     "start_time": "2023-02-24T05:12:57.566196Z"
    }
   },
   "outputs": [],
   "source": [
    "Training_Features=[]\n",
    "Training_Label=[]\n",
    "for image_array_value,label in Training_Data:\n",
    "    Training_Features.append(image_array_value)\n",
    "    Training_Label.append(label)\n",
    "Training_Features=numpy.array(Training_Features)\n",
    "Training_Label=numpy.array(Training_Label)"
   ]
  },
  {
   "cell_type": "code",
   "execution_count": 28,
   "id": "5952b223",
   "metadata": {
    "ExecuteTime": {
     "end_time": "2023-02-24T05:12:58.258570Z",
     "start_time": "2023-02-24T05:12:58.237879Z"
    }
   },
   "outputs": [
    {
     "data": {
      "text/plain": [
       "(325, 320, 320)"
      ]
     },
     "execution_count": 28,
     "metadata": {},
     "output_type": "execute_result"
    }
   ],
   "source": [
    "Training_Features.shape"
   ]
  },
  {
   "cell_type": "markdown",
   "id": "06c1eb8f",
   "metadata": {},
   "source": [
    "### Testing Data"
   ]
  },
  {
   "cell_type": "code",
   "execution_count": 29,
   "id": "ffe8c100",
   "metadata": {
    "ExecuteTime": {
     "end_time": "2023-02-24T05:13:33.292694Z",
     "start_time": "2023-02-24T05:12:59.312193Z"
    }
   },
   "outputs": [
    {
     "name": "stdout",
     "output_type": "stream",
     "text": [
      "Cotton\n",
      "1,2,3,4,5,6,7,8,9,10,11,12,13,14,15,16,17,18,19,20,21,22,23,24,25,26,27,28,\n",
      "Total 28 Images is Readed\n",
      "Sugarcane\n",
      "1,2,3,4,5,6,7,8,9,10,11,12,13,14,15,16,17,18,19,20,21,22,23,24,25,\n",
      "Total 25 Images is Readed\n",
      "Wheat\n",
      "1,2,3,4,5,6,7,8,9,10,11,12,13,14,15,16,17,18,19,20,21,22,23,24,\n",
      "Total 24 Images is Readed\n"
     ]
    }
   ],
   "source": [
    "Testing_Data=getMaxMinMeanMethodImagesData(Testing_Data_Path,range_=(20,240))"
   ]
  },
  {
   "cell_type": "code",
   "execution_count": 30,
   "id": "ab08f6ef",
   "metadata": {
    "ExecuteTime": {
     "end_time": "2023-02-24T05:13:33.331714Z",
     "start_time": "2023-02-24T05:13:33.294913Z"
    }
   },
   "outputs": [],
   "source": [
    "Testing_Features=[]\n",
    "Testing_Label=[]\n",
    "for image_array_value,label in Testing_Data:\n",
    "    Testing_Features.append(image_array_value)\n",
    "    Testing_Label.append(label)\n",
    "Testing_Features=numpy.array(Testing_Features)\n",
    "Testing_Label=numpy.array(Testing_Label)"
   ]
  },
  {
   "cell_type": "code",
   "execution_count": 31,
   "id": "af6407a7",
   "metadata": {
    "ExecuteTime": {
     "end_time": "2023-02-24T05:13:33.346863Z",
     "start_time": "2023-02-24T05:13:33.336584Z"
    }
   },
   "outputs": [
    {
     "data": {
      "text/plain": [
       "(77, 320, 320)"
      ]
     },
     "execution_count": 31,
     "metadata": {},
     "output_type": "execute_result"
    }
   ],
   "source": [
    "Testing_Features.shape"
   ]
  },
  {
   "cell_type": "markdown",
   "id": "38caa282",
   "metadata": {},
   "source": [
    "# Data Saving"
   ]
  },
  {
   "cell_type": "code",
   "execution_count": 34,
   "id": "098a0b44",
   "metadata": {
    "ExecuteTime": {
     "end_time": "2023-02-24T05:13:50.920653Z",
     "start_time": "2023-02-24T05:13:49.999014Z"
    }
   },
   "outputs": [],
   "source": [
    "pickle_training_features=open(Saving_Path+\"pickle_training_features_1.pickle\",\"wb\")\n",
    "pickle.dump(Training_Features,pickle_training_features)\n",
    "pickle_training_features.close()"
   ]
  },
  {
   "cell_type": "code",
   "execution_count": 35,
   "id": "230c0e49",
   "metadata": {
    "ExecuteTime": {
     "end_time": "2023-02-24T05:13:50.936246Z",
     "start_time": "2023-02-24T05:13:50.925651Z"
    }
   },
   "outputs": [],
   "source": [
    "pickle_training_labels=open(Saving_Path+\"pickle_training_labels_1.pickle\",\"wb\")\n",
    "pickle.dump(Training_Label,pickle_training_labels)\n",
    "pickle_training_labels.close()"
   ]
  },
  {
   "cell_type": "code",
   "execution_count": 36,
   "id": "a812802f",
   "metadata": {
    "ExecuteTime": {
     "end_time": "2023-02-24T05:13:51.177429Z",
     "start_time": "2023-02-24T05:13:50.941796Z"
    }
   },
   "outputs": [],
   "source": [
    "pickle_testing_features=open(Saving_Path+\"pickle_testing_features_1.pickle\",\"wb\")\n",
    "pickle.dump(Testing_Features,pickle_testing_features)\n",
    "pickle_testing_features.close()"
   ]
  },
  {
   "cell_type": "code",
   "execution_count": 37,
   "id": "58c58e78",
   "metadata": {
    "ExecuteTime": {
     "end_time": "2023-02-24T05:13:51.210449Z",
     "start_time": "2023-02-24T05:13:51.192150Z"
    }
   },
   "outputs": [],
   "source": [
    "pickle_testing_labels=open(Saving_Path+\"pickle_testing_labels_1.pickle\",\"wb\")\n",
    "pickle.dump(Testing_Label,pickle_testing_labels)\n",
    "pickle_testing_labels.close()"
   ]
  }
 ],
 "metadata": {
  "hide_input": false,
  "kernelspec": {
   "display_name": "Python 3 (ipykernel)",
   "language": "python",
   "name": "python3"
  },
  "language_info": {
   "codemirror_mode": {
    "name": "ipython",
    "version": 3
   },
   "file_extension": ".py",
   "mimetype": "text/x-python",
   "name": "python",
   "nbconvert_exporter": "python",
   "pygments_lexer": "ipython3",
   "version": "3.10.8"
  }
 },
 "nbformat": 4,
 "nbformat_minor": 5
}
